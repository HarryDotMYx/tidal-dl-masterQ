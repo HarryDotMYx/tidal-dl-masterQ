{
  "nbformat": 4,
  "nbformat_minor": 0,
  "metadata": {
    "colab": {
      "name": "tidal-dl.ipynb",
      "provenance": [],
      "authorship_tag": "ABX9TyPGVP8hMgxdvKSwPMiJFBqb",
      "include_colab_link": true
    },
    "kernelspec": {
      "name": "python3",
      "display_name": "Python 3"
    },
    "language_info": {
      "name": "python"
    }
  },
  "cells": [
    {
      "cell_type": "markdown",
      "metadata": {
        "id": "view-in-github",
        "colab_type": "text"
      },
      "source": [
        "<a href=\"https://colab.research.google.com/github/tmatzxzone/tidal-dl-masterQ/blob/main/tidal_dl.ipynb\" target=\"_parent\"><img src=\"https://colab.research.google.com/assets/colab-badge.svg\" alt=\"Open In Colab\"/></a>"
      ]
    },
    {
      "cell_type": "code",
      "execution_count": null,
      "metadata": {
        "id": "2XOo-Rw6q2eu"
      },
      "outputs": [],
      "source": [
        "#@title __Mount Google Drive and Install dependencies:__ { run: \"auto\" }\n",
        "#@markdown ###Just run the cell below to start !tidal-dl\n",
        "from IPython.display import clear_output\n",
        "from google.colab import drive\n",
        "drive.mount('/content/drive', force_remount=True)\n",
        "clear_output()\n",
        "!pkg install python clang libjpeg-turbo ffmpeg zlib -y\n",
        "!echo 'Updating:'\n",
        "!sudo apt-get update -y\n",
        "clear_output()\n",
        "!echo 'Updating:'\n",
        "!sudo apt-get upgrade -y\n",
        "clear_output()\n",
        "!echo 'Installing dependencies:'\n",
        "!python3 install --upgrade pip\n",
        "!python3 -m pip install --upgrade tidal-dl\n",
        "clear_output()"
      ]
    },
    {
      "cell_type": "code",
      "source": [
        "!tidal-dl"
      ],
      "metadata": {
        "id": "ckLHIzbUq4MU"
      },
      "execution_count": null,
      "outputs": []
    }
  ]
}