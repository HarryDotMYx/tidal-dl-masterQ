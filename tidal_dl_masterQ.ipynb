{
  "nbformat": 4,
  "nbformat_minor": 0,
  "metadata": {
    "colab": {
      "name": "tidal-dl masterQ.ipynb",
      "provenance": [],
      "collapsed_sections": [],
      "authorship_tag": "ABX9TyNzWGAKp8eFFxcFDSWDJ+jm",
      "include_colab_link": true
    },
    "kernelspec": {
      "name": "python3",
      "display_name": "Python 3"
    },
    "language_info": {
      "name": "python"
    }
  },
  "cells": [
    {
      "cell_type": "markdown",
      "metadata": {
        "id": "view-in-github",
        "colab_type": "text"
      },
      "source": [
        "<a href=\"https://colab.research.google.com/github/tmatzxzone/tidal-dl-masterQ/blob/main/tidal_dl_masterQ.ipynb\" target=\"_parent\"><img src=\"https://colab.research.google.com/assets/colab-badge.svg\" alt=\"Open In Colab\"/></a>"
      ]
    },
    {
      "cell_type": "code",
      "execution_count": 1,
      "metadata": {
        "colab": {
          "base_uri": "https://localhost:8080/"
        },
        "id": "uAD2-qSiMmqy",
        "outputId": "cef24d8e-9bfb-4d37-fb30-165519376a5c"
      },
      "outputs": [
        {
          "output_type": "stream",
          "name": "stdout",
          "text": [
            "Setup complete, now you can config streamrip and get going.\n",
            "Python 3.9.9\n",
            "----\n",
            "pip 21.3.1 from /usr/local/lib/python3.9/dist-packages/pip (python 3.9)\n",
            "----\n",
            "MediaInfo Command line, \n",
            "MediaInfoLib - v21.03\n",
            "----\n",
            "drive  rentry  sample_data\n"
          ]
        }
      ],
      "source": [
        "#@title __Mount Google Drive and Install dependencies:__ { run: \"auto\" }\n",
        "from IPython.display import clear_output\n",
        "from google.colab import drive\n",
        "drive.mount('/content/drive', force_remount=True)\n",
        "clear_output()\n",
        "!echo 'Updating:'\n",
        "!sudo apt-get update -y\n",
        "clear_output()\n",
        "!echo 'Updating:'\n",
        "!sudo apt-get upgrade -y\n",
        "clear_output()\n",
        "!echo 'Installing dependencies:'\n",
        "!sudo apt-get install python3.9\n",
        "!sudo update-alternatives --install /usr/bin/python3 python3 /usr/bin/python3.7 1\n",
        "!sudo update-alternatives --install /usr/bin/python3 python3 /usr/bin/python3.9 2\n",
        "clear_output()\n",
        "!echo 'Installing dependencies:'\n",
        "!apt install python3-pip\n",
        "!apt install python3.9-distutils\n",
        "!wget https://raw.githubusercontent.com/radude/rentry/master/rentry -O ./rentry && chmod +x ./rentry\n",
        "!wget -q \"http://archive.ubuntu.com/ubuntu/pool/universe/libm/libmms/libmms0_0.6.4-2_amd64.deb\" \"https://mediaarea.net/download/binary/libzen0/0.4.39/libzen0v5_0.4.39-1_amd64.xUbuntu_18.04.deb\" \"https://mediaarea.net/download/binary/mediainfo/21.03/mediainfo_21.03-1_amd64.xUbuntu_18.04.deb\" \"https://mediaarea.net/download/binary/libmediainfo0/21.03/libmediainfo0v5_21.03-1_amd64.xUbuntu_18.04.deb\"\n",
        "!sudo dpkg -i /content/*.deb\n",
        "!rm -rf /content/*.deb\n",
        "clear_output()\n",
        "!echo 'Installing dependencies:'\n",
        "!python3 -m pip install --upgrade setuptools\n",
        "!python3 -m pip install --upgrade pip\n",
        "!python3 -m pip install --upgrade distlib\n",
        "!python3 -m pip install --upgrade tidal-dl\n",
        "clear_output()\n",
        "!echo 'Installing dependencies:'\n",
        "!python3 -m pip install --upgrade toml-cli\n",
        "!python3 -m pip install --upgrade hashlib\n",
        "clear_output()\n",
        "!echo \"Setup complete, now you can run tidal-dl.\"\n",
        "!python --version\n",
        "!echo \"----\"\n",
        "!python3 -m pip --version\n",
        "!echo \"----\"\n",
        "!mediainfo --Version\n",
        "!echo \"----\"\n",
        "!ls"
      ]
    },
    {
      "cell_type": "code",
      "source": [
        "!tidal-dl"
      ],
      "metadata": {
        "colab": {
          "base_uri": "https://localhost:8080/"
        },
        "id": "gZRYjAigMwc2",
        "outputId": "d59b83c4-4941-4a40-dbff-96857eb44cb8"
      },
      "execution_count": null,
      "outputs": [
        {
          "output_type": "stream",
          "name": "stdout",
          "text": [
            "\n",
            " /$$$$$$$$ /$$       /$$           /$$               /$$ /$$\n",
            "|__  $$__/|__/      | $$          | $$              | $$| $$\n",
            "   | $$    /$$  /$$$$$$$  /$$$$$$ | $$          /$$$$$$$| $$\n",
            "   | $$   | $$ /$$__  $$ |____  $$| $$ /$$$$$$ /$$__  $$| $$\n",
            "   | $$   | $$| $$  | $$  /$$$$$$$| $$|______/| $$  | $$| $$\n",
            "   | $$   | $$| $$  | $$ /$$__  $$| $$        | $$  | $$| $$\n",
            "   | $$   | $$|  $$$$$$$|  $$$$$$$| $$        |  $$$$$$$| $$\n",
            "   |__/   |__/ \\_______/ \\_______/|__/         \\_______/|__/\n",
            "   \n",
            "       https://github.com/yaronzz/Tidal-Media-Downloader \n",
            "\n",
            "                      v2021.11.30.1\u001b[0m\n",
            "\u001b[0m+-------------------------------+------------------------------------------------------------+\n",
            "| \u001b[32mSETTINGS\u001b[0m                      | \u001b[32mVALUE\u001b[0m                                                      |\n",
            "+-------------------------------+------------------------------------------------------------+\n",
            "| Settings path                 | /root                                                      |\n",
            "| Download path                 | /content/drive/My Drive/                                   |\n",
            "| Convert mp4 to m4a            | False                                                      |\n",
            "| Audio quality                 | AudioQuality.Master                                        |\n",
            "| Video quality                 | VideoQuality.P1080                                         |\n",
            "| Check exist                   | True                                                       |\n",
            "| Show progress                 | True                                                       |\n",
            "| Save AlbumInfo.txt            | False                                                      |\n",
            "| Show Track Info               | False                                                      |\n",
            "| Include singles & EPs         | False                                                      |\n",
            "| Save covers                   | True                                                       |\n",
            "| Language                      | English                                                    |\n",
            "| Use playlist folder           | True                                                       |\n",
            "| Multi thread download         | True                                                       |\n",
            "| Album folder format           | {ArtistName}/{Flag} {AlbumTitle} [{AlbumID}] [{AlbumYear}] |\n",
            "| Track file format             | {TrackNumber} - {ArtistName} - {TrackTitle}{ExplicitFlag}  |\n",
            "| Add lyrics                    | False                                                      |\n",
            "| Lyrics server proxy           |                                                            |\n",
            "| Save timed lyrics (.lrc file) | False                                                      |\n",
            "| APIKey support                | Master-Only(Else Error)                                    |\n",
            "+-------------------------------+------------------------------------------------------------+\u001b[0m\n",
            "\u001b[0m\u001b[34m[INFO] \u001b[0mAccessToken good for 6 days, 23 hours.\u001b[0m\n",
            "\u001b[0m====================================================\u001b[0m\n",
            "\u001b[0mCHOICE                 FUNCTION                     \n",
            "\u001b[32mEnter '0':\u001b[0m             Exit                         \n",
            "\u001b[32mEnter '1':\u001b[0m             Check AccessToken            \n",
            "\u001b[32mEnter '2':\u001b[0m             Settings                     \n",
            "\u001b[32mEnter '3':\u001b[0m             Logout                       \n",
            "\u001b[32mEnter '4':\u001b[0m             Set AccessToken              \n",
            "\u001b[32mEnter '5':\u001b[0m             Select APIKey                \n",
            "\u001b[32mEnter 'Url/ID':\u001b[0m        Download by url or ID        \u001b[0m\n",
            "\u001b[0m====================================================\u001b[0m\n",
            "\u001b[0m\u001b[33mEnter Choice:\u001b[0m\u001b[0m"
          ]
        }
      ]
    }
  ]
}